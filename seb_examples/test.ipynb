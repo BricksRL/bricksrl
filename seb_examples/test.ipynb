{
 "cells": [
  {
   "cell_type": "code",
   "execution_count": 1,
   "metadata": {},
   "outputs": [],
   "source": [
    "import torch\n",
    "import tensordict as td\n",
    "from torchrl.data import TensorDictPrioritizedReplayBuffer, TensorDictReplayBuffer\n",
    "from torchrl.data.replay_buffers.storages import LazyMemmapStorage\n",
    "\n",
    "import numpy as np\n"
   ]
  },
  {
   "cell_type": "code",
   "execution_count": 43,
   "metadata": {},
   "outputs": [],
   "source": [
    "def create_replay_buffer(prb=False, buffer_size=100000, buffer_scratch_dir=\"/tmp/\", device=\"cpu\",make_replay_buffer=3):\n",
    "    \n",
    "    if prb:\n",
    "            buffer = TensorDictPrioritizedReplayBuffer(\n",
    "            alpha=0.7,\n",
    "            beta=0.5,\n",
    "            pin_memory=False,\n",
    "            prefetch=make_replay_buffer,\n",
    "            storage=LazyMemmapStorage(\n",
    "                buffer_size,\n",
    "                scratch_dir=buffer_scratch_dir,\n",
    "                device=device,\n",
    "            ),\n",
    "        )\n",
    "    else:\n",
    "        replay_buffer = TensorDictReplayBuffer(\n",
    "            pin_memory=False,\n",
    "            prefetch=make_replay_buffer,\n",
    "            storage=LazyMemmapStorage(\n",
    "                buffer_size,\n",
    "                scratch_dir=buffer_scratch_dir,\n",
    "                device=device,\n",
    "            ),\n",
    "        )\n",
    "    return replay_buffer"
   ]
  },
  {
   "cell_type": "code",
   "execution_count": 44,
   "metadata": {},
   "outputs": [],
   "source": [
    "buffer = create_replay_buffer(prb=False, buffer_size=1000, buffer_scratch_dir=\"/tmp/\", device=\"cpu\",make_replay_buffer=3)"
   ]
  },
  {
   "cell_type": "code",
   "execution_count": 45,
   "metadata": {},
   "outputs": [],
   "source": [
    "transition = td.TensorDict({\"observation\": torch.from_numpy(np.random.uniform(0, 1, (1, 5))).float().to(\"cpu\"),\n",
    "                            \"action\": torch.from_numpy(np.random.uniform(0, 1, (1, 1))).float().to(\"cpu\"),\n",
    "                            \"reward\": torch.from_numpy(np.random.uniform(0, 1, (1, 1))).float().to(\"cpu\"),\n",
    "                            \"next_observation\": torch.from_numpy(np.random.uniform(0, 1, (1, 5))).float().to(\"cpu\"),\n",
    "                            \"done\": torch.from_numpy(np.random.uniform(0, 1, (1, 1))).bool().to(\"cpu\")}, batch_size=1)\n",
    "                            "
   ]
  },
  {
   "cell_type": "code",
   "execution_count": 46,
   "metadata": {},
   "outputs": [
    {
     "data": {
      "text/plain": [
       "TensorDict(\n",
       "    fields={\n",
       "        action: Tensor(shape=torch.Size([1, 1]), device=cpu, dtype=torch.float32, is_shared=False),\n",
       "        done: Tensor(shape=torch.Size([1, 1]), device=cpu, dtype=torch.bool, is_shared=False),\n",
       "        next_observation: Tensor(shape=torch.Size([1, 5]), device=cpu, dtype=torch.float32, is_shared=False),\n",
       "        observation: Tensor(shape=torch.Size([1, 5]), device=cpu, dtype=torch.float32, is_shared=False),\n",
       "        reward: Tensor(shape=torch.Size([1, 1]), device=cpu, dtype=torch.float32, is_shared=False)},\n",
       "    batch_size=torch.Size([1]),\n",
       "    device=None,\n",
       "    is_shared=False)"
      ]
     },
     "execution_count": 46,
     "metadata": {},
     "output_type": "execute_result"
    }
   ],
   "source": [
    "transition"
   ]
  },
  {
   "cell_type": "code",
   "execution_count": 47,
   "metadata": {},
   "outputs": [
    {
     "data": {
      "text/plain": [
       "tensor([[0.3452]])"
      ]
     },
     "execution_count": 47,
     "metadata": {},
     "output_type": "execute_result"
    }
   ],
   "source": [
    "transition[\"action\"]"
   ]
  },
  {
   "cell_type": "code",
   "execution_count": 48,
   "metadata": {},
   "outputs": [
    {
     "name": "stdout",
     "output_type": "stream",
     "text": [
      "Creating a MemmapStorage...\n",
      "The storage is being created: \n",
      "\taction: /tmp/action.memmap, 0.3814697265625 Mb of storage (size: torch.Size([1000, 1])).\n",
      "\tdone: /tmp/done.memmap, 0.095367431640625 Mb of storage (size: torch.Size([1000, 1])).\n",
      "\tindex: /tmp/index.memmap, 0.3814697265625 Mb of storage (size: torch.Size([1000])).\n",
      "\tnext_observation: /tmp/next_observation.memmap, 1.9073486328125 Mb of storage (size: torch.Size([1000, 5])).\n",
      "\tobservation: /tmp/observation.memmap, 1.9073486328125 Mb of storage (size: torch.Size([1000, 5])).\n",
      "\treward: /tmp/reward.memmap, 0.762939453125 Mb of storage (size: torch.Size([1000, 1])).\n"
     ]
    },
    {
     "data": {
      "text/plain": [
       "array([0])"
      ]
     },
     "execution_count": 48,
     "metadata": {},
     "output_type": "execute_result"
    }
   ],
   "source": [
    "buffer.extend(transition)"
   ]
  },
  {
   "cell_type": "code",
   "execution_count": 36,
   "metadata": {},
   "outputs": [
    {
     "data": {
      "text/plain": [
       "1"
      ]
     },
     "execution_count": 36,
     "metadata": {},
     "output_type": "execute_result"
    }
   ],
   "source": [
    "buffer.__len__()"
   ]
  },
  {
   "cell_type": "code",
   "execution_count": 28,
   "metadata": {},
   "outputs": [
    {
     "name": "stdout",
     "output_type": "stream",
     "text": [
      "TensorDict(\n",
      "    fields={\n",
      "        action: Tensor(shape=torch.Size([2]), device=cpu, dtype=torch.float32, is_shared=False),\n",
      "        done: Tensor(shape=torch.Size([2]), device=cpu, dtype=torch.bool, is_shared=False),\n",
      "        index: Tensor(shape=torch.Size([2]), device=cpu, dtype=torch.int32, is_shared=False),\n",
      "        next_observation: Tensor(shape=torch.Size([2, 5]), device=cpu, dtype=torch.float32, is_shared=False),\n",
      "        observation: Tensor(shape=torch.Size([2, 5]), device=cpu, dtype=torch.float32, is_shared=False),\n",
      "        reward: Tensor(shape=torch.Size([2]), device=cpu, dtype=torch.float32, is_shared=False)},\n",
      "    batch_size=torch.Size([2]),\n",
      "    device=cpu,\n",
      "    is_shared=False)\n"
     ]
    }
   ],
   "source": [
    "batch = buffer.sample(batch_size=2)\n",
    "print(batch)"
   ]
  },
  {
   "cell_type": "code",
   "execution_count": 18,
   "metadata": {},
   "outputs": [
    {
     "data": {
      "text/plain": [
       "tensor([0.6947])"
      ]
     },
     "execution_count": 18,
     "metadata": {},
     "output_type": "execute_result"
    }
   ],
   "source": [
    "batch[\"action\"]"
   ]
  }
 ],
 "metadata": {
  "kernelspec": {
   "display_name": "lego",
   "language": "python",
   "name": "python3"
  },
  "language_info": {
   "codemirror_mode": {
    "name": "ipython",
    "version": 3
   },
   "file_extension": ".py",
   "mimetype": "text/x-python",
   "name": "python",
   "nbconvert_exporter": "python",
   "pygments_lexer": "ipython3",
   "version": "3.8.16"
  },
  "orig_nbformat": 4,
  "vscode": {
   "interpreter": {
    "hash": "bf763bd838100c66f87843f43aa08f516d4a74208eb14a830341d2706b634686"
   }
  }
 },
 "nbformat": 4,
 "nbformat_minor": 2
}
